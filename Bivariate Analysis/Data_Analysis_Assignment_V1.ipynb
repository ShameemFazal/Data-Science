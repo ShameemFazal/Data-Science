{
 "cells": [
  {
   "cell_type": "code",
   "execution_count": 1,
   "id": "f7cafd7d-4ef3-4ea0-8076-a7887b280695",
   "metadata": {},
   "outputs": [],
   "source": [
    "import pandas as pd"
   ]
  },
  {
   "cell_type": "code",
   "execution_count": 3,
   "id": "bf2ab67e-d637-4f26-b773-b2191bb5f707",
   "metadata": {},
   "outputs": [],
   "source": [
    "dataset=pd.read_csv(\"Placement.csv\")"
   ]
  },
  {
   "cell_type": "code",
   "execution_count": 5,
   "id": "9b64c3fe-8f14-488e-946f-0aa31d4d5e33",
   "metadata": {},
   "outputs": [
    {
     "data": {
      "text/html": [
       "<div>\n",
       "<style scoped>\n",
       "    .dataframe tbody tr th:only-of-type {\n",
       "        vertical-align: middle;\n",
       "    }\n",
       "\n",
       "    .dataframe tbody tr th {\n",
       "        vertical-align: top;\n",
       "    }\n",
       "\n",
       "    .dataframe thead th {\n",
       "        text-align: right;\n",
       "    }\n",
       "</style>\n",
       "<table border=\"1\" class=\"dataframe\">\n",
       "  <thead>\n",
       "    <tr style=\"text-align: right;\">\n",
       "      <th></th>\n",
       "      <th>sl_no</th>\n",
       "      <th>gender</th>\n",
       "      <th>ssc_p</th>\n",
       "      <th>ssc_b</th>\n",
       "      <th>hsc_p</th>\n",
       "      <th>hsc_b</th>\n",
       "      <th>hsc_s</th>\n",
       "      <th>degree_p</th>\n",
       "      <th>degree_t</th>\n",
       "      <th>workex</th>\n",
       "      <th>etest_p</th>\n",
       "      <th>specialisation</th>\n",
       "      <th>mba_p</th>\n",
       "      <th>status</th>\n",
       "      <th>salary</th>\n",
       "    </tr>\n",
       "  </thead>\n",
       "  <tbody>\n",
       "    <tr>\n",
       "      <th>0</th>\n",
       "      <td>1</td>\n",
       "      <td>M</td>\n",
       "      <td>67.00</td>\n",
       "      <td>Others</td>\n",
       "      <td>91.00</td>\n",
       "      <td>Others</td>\n",
       "      <td>Commerce</td>\n",
       "      <td>58.00</td>\n",
       "      <td>Sci&amp;Tech</td>\n",
       "      <td>No</td>\n",
       "      <td>55.0</td>\n",
       "      <td>Mkt&amp;HR</td>\n",
       "      <td>58.80</td>\n",
       "      <td>Placed</td>\n",
       "      <td>270000.0</td>\n",
       "    </tr>\n",
       "    <tr>\n",
       "      <th>1</th>\n",
       "      <td>2</td>\n",
       "      <td>M</td>\n",
       "      <td>79.33</td>\n",
       "      <td>Central</td>\n",
       "      <td>78.33</td>\n",
       "      <td>Others</td>\n",
       "      <td>Science</td>\n",
       "      <td>77.48</td>\n",
       "      <td>Sci&amp;Tech</td>\n",
       "      <td>Yes</td>\n",
       "      <td>86.5</td>\n",
       "      <td>Mkt&amp;Fin</td>\n",
       "      <td>66.28</td>\n",
       "      <td>Placed</td>\n",
       "      <td>200000.0</td>\n",
       "    </tr>\n",
       "    <tr>\n",
       "      <th>2</th>\n",
       "      <td>3</td>\n",
       "      <td>M</td>\n",
       "      <td>65.00</td>\n",
       "      <td>Central</td>\n",
       "      <td>68.00</td>\n",
       "      <td>Central</td>\n",
       "      <td>Arts</td>\n",
       "      <td>64.00</td>\n",
       "      <td>Comm&amp;Mgmt</td>\n",
       "      <td>No</td>\n",
       "      <td>75.0</td>\n",
       "      <td>Mkt&amp;Fin</td>\n",
       "      <td>57.80</td>\n",
       "      <td>Placed</td>\n",
       "      <td>250000.0</td>\n",
       "    </tr>\n",
       "    <tr>\n",
       "      <th>3</th>\n",
       "      <td>4</td>\n",
       "      <td>M</td>\n",
       "      <td>56.00</td>\n",
       "      <td>Central</td>\n",
       "      <td>52.00</td>\n",
       "      <td>Central</td>\n",
       "      <td>Science</td>\n",
       "      <td>52.00</td>\n",
       "      <td>Sci&amp;Tech</td>\n",
       "      <td>No</td>\n",
       "      <td>66.0</td>\n",
       "      <td>Mkt&amp;HR</td>\n",
       "      <td>59.43</td>\n",
       "      <td>Not Placed</td>\n",
       "      <td>NaN</td>\n",
       "    </tr>\n",
       "    <tr>\n",
       "      <th>4</th>\n",
       "      <td>5</td>\n",
       "      <td>M</td>\n",
       "      <td>85.80</td>\n",
       "      <td>Central</td>\n",
       "      <td>73.60</td>\n",
       "      <td>Central</td>\n",
       "      <td>Commerce</td>\n",
       "      <td>73.30</td>\n",
       "      <td>Comm&amp;Mgmt</td>\n",
       "      <td>No</td>\n",
       "      <td>96.8</td>\n",
       "      <td>Mkt&amp;Fin</td>\n",
       "      <td>55.50</td>\n",
       "      <td>Placed</td>\n",
       "      <td>425000.0</td>\n",
       "    </tr>\n",
       "    <tr>\n",
       "      <th>...</th>\n",
       "      <td>...</td>\n",
       "      <td>...</td>\n",
       "      <td>...</td>\n",
       "      <td>...</td>\n",
       "      <td>...</td>\n",
       "      <td>...</td>\n",
       "      <td>...</td>\n",
       "      <td>...</td>\n",
       "      <td>...</td>\n",
       "      <td>...</td>\n",
       "      <td>...</td>\n",
       "      <td>...</td>\n",
       "      <td>...</td>\n",
       "      <td>...</td>\n",
       "      <td>...</td>\n",
       "    </tr>\n",
       "    <tr>\n",
       "      <th>210</th>\n",
       "      <td>211</td>\n",
       "      <td>M</td>\n",
       "      <td>80.60</td>\n",
       "      <td>Others</td>\n",
       "      <td>82.00</td>\n",
       "      <td>Others</td>\n",
       "      <td>Commerce</td>\n",
       "      <td>77.60</td>\n",
       "      <td>Comm&amp;Mgmt</td>\n",
       "      <td>No</td>\n",
       "      <td>91.0</td>\n",
       "      <td>Mkt&amp;Fin</td>\n",
       "      <td>74.49</td>\n",
       "      <td>Placed</td>\n",
       "      <td>400000.0</td>\n",
       "    </tr>\n",
       "    <tr>\n",
       "      <th>211</th>\n",
       "      <td>212</td>\n",
       "      <td>M</td>\n",
       "      <td>58.00</td>\n",
       "      <td>Others</td>\n",
       "      <td>60.00</td>\n",
       "      <td>Others</td>\n",
       "      <td>Science</td>\n",
       "      <td>72.00</td>\n",
       "      <td>Sci&amp;Tech</td>\n",
       "      <td>No</td>\n",
       "      <td>74.0</td>\n",
       "      <td>Mkt&amp;Fin</td>\n",
       "      <td>53.62</td>\n",
       "      <td>Placed</td>\n",
       "      <td>275000.0</td>\n",
       "    </tr>\n",
       "    <tr>\n",
       "      <th>212</th>\n",
       "      <td>213</td>\n",
       "      <td>M</td>\n",
       "      <td>67.00</td>\n",
       "      <td>Others</td>\n",
       "      <td>67.00</td>\n",
       "      <td>Others</td>\n",
       "      <td>Commerce</td>\n",
       "      <td>73.00</td>\n",
       "      <td>Comm&amp;Mgmt</td>\n",
       "      <td>Yes</td>\n",
       "      <td>59.0</td>\n",
       "      <td>Mkt&amp;Fin</td>\n",
       "      <td>69.72</td>\n",
       "      <td>Placed</td>\n",
       "      <td>295000.0</td>\n",
       "    </tr>\n",
       "    <tr>\n",
       "      <th>213</th>\n",
       "      <td>214</td>\n",
       "      <td>F</td>\n",
       "      <td>74.00</td>\n",
       "      <td>Others</td>\n",
       "      <td>66.00</td>\n",
       "      <td>Others</td>\n",
       "      <td>Commerce</td>\n",
       "      <td>58.00</td>\n",
       "      <td>Comm&amp;Mgmt</td>\n",
       "      <td>No</td>\n",
       "      <td>70.0</td>\n",
       "      <td>Mkt&amp;HR</td>\n",
       "      <td>60.23</td>\n",
       "      <td>Placed</td>\n",
       "      <td>204000.0</td>\n",
       "    </tr>\n",
       "    <tr>\n",
       "      <th>214</th>\n",
       "      <td>215</td>\n",
       "      <td>M</td>\n",
       "      <td>62.00</td>\n",
       "      <td>Central</td>\n",
       "      <td>58.00</td>\n",
       "      <td>Others</td>\n",
       "      <td>Science</td>\n",
       "      <td>53.00</td>\n",
       "      <td>Comm&amp;Mgmt</td>\n",
       "      <td>No</td>\n",
       "      <td>89.0</td>\n",
       "      <td>Mkt&amp;HR</td>\n",
       "      <td>60.22</td>\n",
       "      <td>Not Placed</td>\n",
       "      <td>NaN</td>\n",
       "    </tr>\n",
       "  </tbody>\n",
       "</table>\n",
       "<p>215 rows × 15 columns</p>\n",
       "</div>"
      ],
      "text/plain": [
       "     sl_no gender  ssc_p    ssc_b  hsc_p    hsc_b     hsc_s  degree_p  \\\n",
       "0        1      M  67.00   Others  91.00   Others  Commerce     58.00   \n",
       "1        2      M  79.33  Central  78.33   Others   Science     77.48   \n",
       "2        3      M  65.00  Central  68.00  Central      Arts     64.00   \n",
       "3        4      M  56.00  Central  52.00  Central   Science     52.00   \n",
       "4        5      M  85.80  Central  73.60  Central  Commerce     73.30   \n",
       "..     ...    ...    ...      ...    ...      ...       ...       ...   \n",
       "210    211      M  80.60   Others  82.00   Others  Commerce     77.60   \n",
       "211    212      M  58.00   Others  60.00   Others   Science     72.00   \n",
       "212    213      M  67.00   Others  67.00   Others  Commerce     73.00   \n",
       "213    214      F  74.00   Others  66.00   Others  Commerce     58.00   \n",
       "214    215      M  62.00  Central  58.00   Others   Science     53.00   \n",
       "\n",
       "      degree_t workex  etest_p specialisation  mba_p      status    salary  \n",
       "0     Sci&Tech     No     55.0         Mkt&HR  58.80      Placed  270000.0  \n",
       "1     Sci&Tech    Yes     86.5        Mkt&Fin  66.28      Placed  200000.0  \n",
       "2    Comm&Mgmt     No     75.0        Mkt&Fin  57.80      Placed  250000.0  \n",
       "3     Sci&Tech     No     66.0         Mkt&HR  59.43  Not Placed       NaN  \n",
       "4    Comm&Mgmt     No     96.8        Mkt&Fin  55.50      Placed  425000.0  \n",
       "..         ...    ...      ...            ...    ...         ...       ...  \n",
       "210  Comm&Mgmt     No     91.0        Mkt&Fin  74.49      Placed  400000.0  \n",
       "211   Sci&Tech     No     74.0        Mkt&Fin  53.62      Placed  275000.0  \n",
       "212  Comm&Mgmt    Yes     59.0        Mkt&Fin  69.72      Placed  295000.0  \n",
       "213  Comm&Mgmt     No     70.0         Mkt&HR  60.23      Placed  204000.0  \n",
       "214  Comm&Mgmt     No     89.0         Mkt&HR  60.22  Not Placed       NaN  \n",
       "\n",
       "[215 rows x 15 columns]"
      ]
     },
     "execution_count": 5,
     "metadata": {},
     "output_type": "execute_result"
    }
   ],
   "source": [
    "dataset"
   ]
  },
  {
   "cell_type": "code",
   "execution_count": 7,
   "id": "ad618a03-d53b-4af0-ace1-00c46160ff23",
   "metadata": {},
   "outputs": [
    {
     "data": {
      "text/plain": [
       "sl_no              0\n",
       "gender             0\n",
       "ssc_p              0\n",
       "ssc_b              0\n",
       "hsc_p              0\n",
       "hsc_b              0\n",
       "hsc_s              0\n",
       "degree_p           0\n",
       "degree_t           0\n",
       "workex             0\n",
       "etest_p            0\n",
       "specialisation     0\n",
       "mba_p              0\n",
       "status             0\n",
       "salary            67\n",
       "dtype: int64"
      ]
     },
     "execution_count": 7,
     "metadata": {},
     "output_type": "execute_result"
    }
   ],
   "source": [
    "dataset.isnull().sum()"
   ]
  },
  {
   "cell_type": "markdown",
   "id": "d36eeb68-f728-4810-ba80-ca6dc9c91bbf",
   "metadata": {},
   "source": [
    "# 1). Replace missing values of salary column with correct values '0' with respect to the problem"
   ]
  },
  {
   "cell_type": "code",
   "execution_count": 10,
   "id": "b2db287e-a12c-4c3c-93cd-e0bda3e4c3d3",
   "metadata": {},
   "outputs": [
    {
     "name": "stderr",
     "output_type": "stream",
     "text": [
      "C:\\Users\\win\\AppData\\Local\\Temp\\ipykernel_2636\\2080798296.py:1: FutureWarning: A value is trying to be set on a copy of a DataFrame or Series through chained assignment using an inplace method.\n",
      "The behavior will change in pandas 3.0. This inplace method will never work because the intermediate object on which we are setting values always behaves as a copy.\n",
      "\n",
      "For example, when doing 'df[col].method(value, inplace=True)', try using 'df.method({col: value}, inplace=True)' or df[col] = df[col].method(value) instead, to perform the operation inplace on the original object.\n",
      "\n",
      "\n",
      "  dataset[\"salary\"].fillna(0,inplace=True)\n"
     ]
    }
   ],
   "source": [
    "dataset[\"salary\"].fillna(0,inplace=True)"
   ]
  },
  {
   "cell_type": "code",
   "execution_count": 12,
   "id": "5d83d12e-fa2a-42b8-8435-822f62951d9a",
   "metadata": {},
   "outputs": [
    {
     "data": {
      "text/html": [
       "<div>\n",
       "<style scoped>\n",
       "    .dataframe tbody tr th:only-of-type {\n",
       "        vertical-align: middle;\n",
       "    }\n",
       "\n",
       "    .dataframe tbody tr th {\n",
       "        vertical-align: top;\n",
       "    }\n",
       "\n",
       "    .dataframe thead th {\n",
       "        text-align: right;\n",
       "    }\n",
       "</style>\n",
       "<table border=\"1\" class=\"dataframe\">\n",
       "  <thead>\n",
       "    <tr style=\"text-align: right;\">\n",
       "      <th></th>\n",
       "      <th>sl_no</th>\n",
       "      <th>gender</th>\n",
       "      <th>ssc_p</th>\n",
       "      <th>ssc_b</th>\n",
       "      <th>hsc_p</th>\n",
       "      <th>hsc_b</th>\n",
       "      <th>hsc_s</th>\n",
       "      <th>degree_p</th>\n",
       "      <th>degree_t</th>\n",
       "      <th>workex</th>\n",
       "      <th>etest_p</th>\n",
       "      <th>specialisation</th>\n",
       "      <th>mba_p</th>\n",
       "      <th>status</th>\n",
       "      <th>salary</th>\n",
       "    </tr>\n",
       "  </thead>\n",
       "  <tbody>\n",
       "    <tr>\n",
       "      <th>0</th>\n",
       "      <td>1</td>\n",
       "      <td>M</td>\n",
       "      <td>67.00</td>\n",
       "      <td>Others</td>\n",
       "      <td>91.00</td>\n",
       "      <td>Others</td>\n",
       "      <td>Commerce</td>\n",
       "      <td>58.00</td>\n",
       "      <td>Sci&amp;Tech</td>\n",
       "      <td>No</td>\n",
       "      <td>55.0</td>\n",
       "      <td>Mkt&amp;HR</td>\n",
       "      <td>58.80</td>\n",
       "      <td>Placed</td>\n",
       "      <td>270000.0</td>\n",
       "    </tr>\n",
       "    <tr>\n",
       "      <th>1</th>\n",
       "      <td>2</td>\n",
       "      <td>M</td>\n",
       "      <td>79.33</td>\n",
       "      <td>Central</td>\n",
       "      <td>78.33</td>\n",
       "      <td>Others</td>\n",
       "      <td>Science</td>\n",
       "      <td>77.48</td>\n",
       "      <td>Sci&amp;Tech</td>\n",
       "      <td>Yes</td>\n",
       "      <td>86.5</td>\n",
       "      <td>Mkt&amp;Fin</td>\n",
       "      <td>66.28</td>\n",
       "      <td>Placed</td>\n",
       "      <td>200000.0</td>\n",
       "    </tr>\n",
       "    <tr>\n",
       "      <th>2</th>\n",
       "      <td>3</td>\n",
       "      <td>M</td>\n",
       "      <td>65.00</td>\n",
       "      <td>Central</td>\n",
       "      <td>68.00</td>\n",
       "      <td>Central</td>\n",
       "      <td>Arts</td>\n",
       "      <td>64.00</td>\n",
       "      <td>Comm&amp;Mgmt</td>\n",
       "      <td>No</td>\n",
       "      <td>75.0</td>\n",
       "      <td>Mkt&amp;Fin</td>\n",
       "      <td>57.80</td>\n",
       "      <td>Placed</td>\n",
       "      <td>250000.0</td>\n",
       "    </tr>\n",
       "    <tr>\n",
       "      <th>3</th>\n",
       "      <td>4</td>\n",
       "      <td>M</td>\n",
       "      <td>56.00</td>\n",
       "      <td>Central</td>\n",
       "      <td>52.00</td>\n",
       "      <td>Central</td>\n",
       "      <td>Science</td>\n",
       "      <td>52.00</td>\n",
       "      <td>Sci&amp;Tech</td>\n",
       "      <td>No</td>\n",
       "      <td>66.0</td>\n",
       "      <td>Mkt&amp;HR</td>\n",
       "      <td>59.43</td>\n",
       "      <td>Not Placed</td>\n",
       "      <td>0.0</td>\n",
       "    </tr>\n",
       "    <tr>\n",
       "      <th>4</th>\n",
       "      <td>5</td>\n",
       "      <td>M</td>\n",
       "      <td>85.80</td>\n",
       "      <td>Central</td>\n",
       "      <td>73.60</td>\n",
       "      <td>Central</td>\n",
       "      <td>Commerce</td>\n",
       "      <td>73.30</td>\n",
       "      <td>Comm&amp;Mgmt</td>\n",
       "      <td>No</td>\n",
       "      <td>96.8</td>\n",
       "      <td>Mkt&amp;Fin</td>\n",
       "      <td>55.50</td>\n",
       "      <td>Placed</td>\n",
       "      <td>425000.0</td>\n",
       "    </tr>\n",
       "    <tr>\n",
       "      <th>...</th>\n",
       "      <td>...</td>\n",
       "      <td>...</td>\n",
       "      <td>...</td>\n",
       "      <td>...</td>\n",
       "      <td>...</td>\n",
       "      <td>...</td>\n",
       "      <td>...</td>\n",
       "      <td>...</td>\n",
       "      <td>...</td>\n",
       "      <td>...</td>\n",
       "      <td>...</td>\n",
       "      <td>...</td>\n",
       "      <td>...</td>\n",
       "      <td>...</td>\n",
       "      <td>...</td>\n",
       "    </tr>\n",
       "    <tr>\n",
       "      <th>210</th>\n",
       "      <td>211</td>\n",
       "      <td>M</td>\n",
       "      <td>80.60</td>\n",
       "      <td>Others</td>\n",
       "      <td>82.00</td>\n",
       "      <td>Others</td>\n",
       "      <td>Commerce</td>\n",
       "      <td>77.60</td>\n",
       "      <td>Comm&amp;Mgmt</td>\n",
       "      <td>No</td>\n",
       "      <td>91.0</td>\n",
       "      <td>Mkt&amp;Fin</td>\n",
       "      <td>74.49</td>\n",
       "      <td>Placed</td>\n",
       "      <td>400000.0</td>\n",
       "    </tr>\n",
       "    <tr>\n",
       "      <th>211</th>\n",
       "      <td>212</td>\n",
       "      <td>M</td>\n",
       "      <td>58.00</td>\n",
       "      <td>Others</td>\n",
       "      <td>60.00</td>\n",
       "      <td>Others</td>\n",
       "      <td>Science</td>\n",
       "      <td>72.00</td>\n",
       "      <td>Sci&amp;Tech</td>\n",
       "      <td>No</td>\n",
       "      <td>74.0</td>\n",
       "      <td>Mkt&amp;Fin</td>\n",
       "      <td>53.62</td>\n",
       "      <td>Placed</td>\n",
       "      <td>275000.0</td>\n",
       "    </tr>\n",
       "    <tr>\n",
       "      <th>212</th>\n",
       "      <td>213</td>\n",
       "      <td>M</td>\n",
       "      <td>67.00</td>\n",
       "      <td>Others</td>\n",
       "      <td>67.00</td>\n",
       "      <td>Others</td>\n",
       "      <td>Commerce</td>\n",
       "      <td>73.00</td>\n",
       "      <td>Comm&amp;Mgmt</td>\n",
       "      <td>Yes</td>\n",
       "      <td>59.0</td>\n",
       "      <td>Mkt&amp;Fin</td>\n",
       "      <td>69.72</td>\n",
       "      <td>Placed</td>\n",
       "      <td>295000.0</td>\n",
       "    </tr>\n",
       "    <tr>\n",
       "      <th>213</th>\n",
       "      <td>214</td>\n",
       "      <td>F</td>\n",
       "      <td>74.00</td>\n",
       "      <td>Others</td>\n",
       "      <td>66.00</td>\n",
       "      <td>Others</td>\n",
       "      <td>Commerce</td>\n",
       "      <td>58.00</td>\n",
       "      <td>Comm&amp;Mgmt</td>\n",
       "      <td>No</td>\n",
       "      <td>70.0</td>\n",
       "      <td>Mkt&amp;HR</td>\n",
       "      <td>60.23</td>\n",
       "      <td>Placed</td>\n",
       "      <td>204000.0</td>\n",
       "    </tr>\n",
       "    <tr>\n",
       "      <th>214</th>\n",
       "      <td>215</td>\n",
       "      <td>M</td>\n",
       "      <td>62.00</td>\n",
       "      <td>Central</td>\n",
       "      <td>58.00</td>\n",
       "      <td>Others</td>\n",
       "      <td>Science</td>\n",
       "      <td>53.00</td>\n",
       "      <td>Comm&amp;Mgmt</td>\n",
       "      <td>No</td>\n",
       "      <td>89.0</td>\n",
       "      <td>Mkt&amp;HR</td>\n",
       "      <td>60.22</td>\n",
       "      <td>Not Placed</td>\n",
       "      <td>0.0</td>\n",
       "    </tr>\n",
       "  </tbody>\n",
       "</table>\n",
       "<p>215 rows × 15 columns</p>\n",
       "</div>"
      ],
      "text/plain": [
       "     sl_no gender  ssc_p    ssc_b  hsc_p    hsc_b     hsc_s  degree_p  \\\n",
       "0        1      M  67.00   Others  91.00   Others  Commerce     58.00   \n",
       "1        2      M  79.33  Central  78.33   Others   Science     77.48   \n",
       "2        3      M  65.00  Central  68.00  Central      Arts     64.00   \n",
       "3        4      M  56.00  Central  52.00  Central   Science     52.00   \n",
       "4        5      M  85.80  Central  73.60  Central  Commerce     73.30   \n",
       "..     ...    ...    ...      ...    ...      ...       ...       ...   \n",
       "210    211      M  80.60   Others  82.00   Others  Commerce     77.60   \n",
       "211    212      M  58.00   Others  60.00   Others   Science     72.00   \n",
       "212    213      M  67.00   Others  67.00   Others  Commerce     73.00   \n",
       "213    214      F  74.00   Others  66.00   Others  Commerce     58.00   \n",
       "214    215      M  62.00  Central  58.00   Others   Science     53.00   \n",
       "\n",
       "      degree_t workex  etest_p specialisation  mba_p      status    salary  \n",
       "0     Sci&Tech     No     55.0         Mkt&HR  58.80      Placed  270000.0  \n",
       "1     Sci&Tech    Yes     86.5        Mkt&Fin  66.28      Placed  200000.0  \n",
       "2    Comm&Mgmt     No     75.0        Mkt&Fin  57.80      Placed  250000.0  \n",
       "3     Sci&Tech     No     66.0         Mkt&HR  59.43  Not Placed       0.0  \n",
       "4    Comm&Mgmt     No     96.8        Mkt&Fin  55.50      Placed  425000.0  \n",
       "..         ...    ...      ...            ...    ...         ...       ...  \n",
       "210  Comm&Mgmt     No     91.0        Mkt&Fin  74.49      Placed  400000.0  \n",
       "211   Sci&Tech     No     74.0        Mkt&Fin  53.62      Placed  275000.0  \n",
       "212  Comm&Mgmt    Yes     59.0        Mkt&Fin  69.72      Placed  295000.0  \n",
       "213  Comm&Mgmt     No     70.0         Mkt&HR  60.23      Placed  204000.0  \n",
       "214  Comm&Mgmt     No     89.0         Mkt&HR  60.22  Not Placed       0.0  \n",
       "\n",
       "[215 rows x 15 columns]"
      ]
     },
     "execution_count": 12,
     "metadata": {},
     "output_type": "execute_result"
    }
   ],
   "source": [
    "dataset"
   ]
  },
  {
   "cell_type": "markdown",
   "id": "a1e240be-1aae-40a6-9139-dbf39dacdfd5",
   "metadata": {},
   "source": [
    "# 2). How many of the candidate's status are \"Not Placed\"?"
   ]
  },
  {
   "cell_type": "code",
   "execution_count": 15,
   "id": "f5c23ea7-2fec-4d87-b4c9-5f73208b3e7e",
   "metadata": {},
   "outputs": [
    {
     "data": {
      "text/plain": [
       "status\n",
       "Placed        148\n",
       "Not Placed     67\n",
       "Name: count, dtype: int64"
      ]
     },
     "execution_count": 15,
     "metadata": {},
     "output_type": "execute_result"
    }
   ],
   "source": [
    "dataset['status'].value_counts()"
   ]
  },
  {
   "cell_type": "code",
   "execution_count": 17,
   "id": "07b2637f-31ae-4f39-8e3c-486fe2b9bc73",
   "metadata": {},
   "outputs": [
    {
     "data": {
      "text/plain": [
       "67"
      ]
     },
     "execution_count": 17,
     "metadata": {},
     "output_type": "execute_result"
    }
   ],
   "source": [
    "(dataset[\"status\"]=='Not Placed').sum()"
   ]
  },
  {
   "cell_type": "markdown",
   "id": "44367016-50ee-4197-9fc6-37c6f5e4a9f9",
   "metadata": {},
   "source": [
    "# 4). Finding what kind of relation between salary and mba_p (mba pass mark)?"
   ]
  },
  {
   "cell_type": "code",
   "execution_count": 20,
   "id": "19670129-60d6-45eb-8d47-84258c331c74",
   "metadata": {},
   "outputs": [],
   "source": [
    "correlation_value=dataset[\"salary\"].corr(dataset[\"mba_p\"])"
   ]
  },
  {
   "cell_type": "code",
   "execution_count": 22,
   "id": "fd1379aa-6215-4c3d-ad81-81a37e4acc22",
   "metadata": {},
   "outputs": [
    {
     "data": {
      "text/plain": [
       "0.13982273892615557"
      ]
     },
     "execution_count": 22,
     "metadata": {},
     "output_type": "execute_result"
    }
   ],
   "source": [
    "correlation_value"
   ]
  },
  {
   "cell_type": "code",
   "execution_count": 24,
   "id": "0b4e9977-adf5-46b5-97a7-8a2ef16540b9",
   "metadata": {},
   "outputs": [],
   "source": [
    "import matplotlib.pyplot as plt"
   ]
  },
  {
   "cell_type": "code",
   "execution_count": 26,
   "id": "506b77ee-4ed1-4ce0-a54b-fbc9d8c95627",
   "metadata": {},
   "outputs": [
    {
     "data": {
      "text/plain": [
       "<matplotlib.collections.PathCollection at 0x118fdd8e750>"
      ]
     },
     "execution_count": 26,
     "metadata": {},
     "output_type": "execute_result"
    },
    {
     "data": {
      "image/png": "[encoded data removed]",
      "text/plain": [
       "<Figure size 640x480 with 1 Axes>"
      ]
     },
     "metadata": {},
     "output_type": "display_data"
    }
   ],
   "source": [
    "plt.scatter(dataset[\"salary\"], dataset[\"mba_p\"])"
   ]
  },
  {
   "cell_type": "markdown",
   "id": "afea96b5-538e-4d1e-905e-ebe018d5aca3",
   "metadata": {},
   "source": [
    "# From the above scatter plot,We found that the kind of relation between salary and mba_p is \"ZERO CORRELATION\" "
   ]
  },
  {
   "cell_type": "markdown",
   "id": "bc376343-aa5f-4e45-b700-95f0897e5915",
   "metadata": {},
   "source": [
    "# 5). Finding which specialization is getting minimum salary?"
   ]
  },
  {
   "cell_type": "code",
   "execution_count": 30,
   "id": "6a46f81d-a638-443d-853a-59beb7608f90",
   "metadata": {},
   "outputs": [],
   "source": [
    "salary = dataset[\"salary\"]"
   ]
  },
  {
   "cell_type": "code",
   "execution_count": 32,
   "id": "d986a704-cd17-4e9d-89a1-a7993c72d45c",
   "metadata": {},
   "outputs": [
    {
     "data": {
      "text/plain": [
       "0      270000.0\n",
       "1      200000.0\n",
       "2      250000.0\n",
       "3           0.0\n",
       "4      425000.0\n",
       "         ...   \n",
       "210    400000.0\n",
       "211    275000.0\n",
       "212    295000.0\n",
       "213    204000.0\n",
       "214         0.0\n",
       "Name: salary, Length: 215, dtype: float64"
      ]
     },
     "execution_count": 32,
     "metadata": {},
     "output_type": "execute_result"
    }
   ],
   "source": [
    "salary"
   ]
  },
  {
   "cell_type": "code",
   "execution_count": 34,
   "id": "2561e6a3-531c-43c1-b47e-889e78284d14",
   "metadata": {},
   "outputs": [],
   "source": [
    "specialization = dataset[\"specialisation\"]"
   ]
  },
  {
   "cell_type": "code",
   "execution_count": 36,
   "id": "9e4eb1b0-d1e3-4e23-9baf-d68db7163a7c",
   "metadata": {},
   "outputs": [
    {
     "data": {
      "text/plain": [
       "0       Mkt&HR\n",
       "1      Mkt&Fin\n",
       "2      Mkt&Fin\n",
       "3       Mkt&HR\n",
       "4      Mkt&Fin\n",
       "        ...   \n",
       "210    Mkt&Fin\n",
       "211    Mkt&Fin\n",
       "212    Mkt&Fin\n",
       "213     Mkt&HR\n",
       "214     Mkt&HR\n",
       "Name: specialisation, Length: 215, dtype: object"
      ]
     },
     "execution_count": 36,
     "metadata": {},
     "output_type": "execute_result"
    }
   ],
   "source": [
    "specialization"
   ]
  },
  {
   "cell_type": "code",
   "execution_count": 38,
   "id": "ffd3aad4-3c2e-43ae-98b1-013b88b6a7a3",
   "metadata": {},
   "outputs": [],
   "source": [
    "salary_List = [i for i in salary if i != 0]"
   ]
  },
  {
   "cell_type": "code",
   "execution_count": 40,
   "id": "d2e1851e-98f1-4e20-a81c-fb99df12a4e3",
   "metadata": {},
   "outputs": [
    {
     "data": {
      "text/plain": [
       "[270000.0,\n",
       " 200000.0,\n",
       " 250000.0,\n",
       " 425000.0,\n",
       " 252000.0,\n",
       " 231000.0,\n",
       " 260000.0,\n",
       " 250000.0,\n",
       " 218000.0,\n",
       " 200000.0,\n",
       " 300000.0,\n",
       " 236000.0,\n",
       " 265000.0,\n",
       " 393000.0,\n",
       " 360000.0,\n",
       " 300000.0,\n",
       " 360000.0,\n",
       " 240000.0,\n",
       " 265000.0,\n",
       " 350000.0,\n",
       " 250000.0,\n",
       " 278000.0,\n",
       " 260000.0,\n",
       " 300000.0,\n",
       " 320000.0,\n",
       " 240000.0,\n",
       " 411000.0,\n",
       " 287000.0,\n",
       " 300000.0,\n",
       " 200000.0,\n",
       " 204000.0,\n",
       " 250000.0,\n",
       " 200000.0,\n",
       " 450000.0,\n",
       " 216000.0,\n",
       " 220000.0,\n",
       " 240000.0,\n",
       " 360000.0,\n",
       " 268000.0,\n",
       " 265000.0,\n",
       " 260000.0,\n",
       " 300000.0,\n",
       " 240000.0,\n",
       " 240000.0,\n",
       " 275000.0,\n",
       " 275000.0,\n",
       " 275000.0,\n",
       " 360000.0,\n",
       " 240000.0,\n",
       " 240000.0,\n",
       " 218000.0,\n",
       " 336000.0,\n",
       " 230000.0,\n",
       " 500000.0,\n",
       " 270000.0,\n",
       " 240000.0,\n",
       " 300000.0,\n",
       " 300000.0,\n",
       " 300000.0,\n",
       " 400000.0,\n",
       " 220000.0,\n",
       " 210000.0,\n",
       " 210000.0,\n",
       " 300000.0,\n",
       " 230000.0,\n",
       " 260000.0,\n",
       " 420000.0,\n",
       " 300000.0,\n",
       " 220000.0,\n",
       " 380000.0,\n",
       " 300000.0,\n",
       " 240000.0,\n",
       " 360000.0,\n",
       " 200000.0,\n",
       " 300000.0,\n",
       " 250000.0,\n",
       " 250000.0,\n",
       " 280000.0,\n",
       " 250000.0,\n",
       " 216000.0,\n",
       " 300000.0,\n",
       " 240000.0,\n",
       " 276000.0,\n",
       " 940000.0,\n",
       " 250000.0,\n",
       " 236000.0,\n",
       " 240000.0,\n",
       " 250000.0,\n",
       " 350000.0,\n",
       " 210000.0,\n",
       " 250000.0,\n",
       " 400000.0,\n",
       " 250000.0,\n",
       " 360000.0,\n",
       " 300000.0,\n",
       " 250000.0,\n",
       " 250000.0,\n",
       " 200000.0,\n",
       " 225000.0,\n",
       " 250000.0,\n",
       " 220000.0,\n",
       " 265000.0,\n",
       " 260000.0,\n",
       " 300000.0,\n",
       " 400000.0,\n",
       " 233000.0,\n",
       " 300000.0,\n",
       " 240000.0,\n",
       " 690000.0,\n",
       " 270000.0,\n",
       " 240000.0,\n",
       " 340000.0,\n",
       " 250000.0,\n",
       " 255000.0,\n",
       " 300000.0,\n",
       " 300000.0,\n",
       " 285000.0,\n",
       " 500000.0,\n",
       " 250000.0,\n",
       " 240000.0,\n",
       " 290000.0,\n",
       " 300000.0,\n",
       " 500000.0,\n",
       " 220000.0,\n",
       " 650000.0,\n",
       " 350000.0,\n",
       " 265000.0,\n",
       " 276000.0,\n",
       " 252000.0,\n",
       " 280000.0,\n",
       " 264000.0,\n",
       " 270000.0,\n",
       " 300000.0,\n",
       " 275000.0,\n",
       " 250000.0,\n",
       " 260000.0,\n",
       " 265000.0,\n",
       " 300000.0,\n",
       " 240000.0,\n",
       " 260000.0,\n",
       " 210000.0,\n",
       " 250000.0,\n",
       " 300000.0,\n",
       " 216000.0,\n",
       " 400000.0,\n",
       " 275000.0,\n",
       " 295000.0,\n",
       " 204000.0]"
      ]
     },
     "execution_count": 40,
     "metadata": {},
     "output_type": "execute_result"
    }
   ],
   "source": [
    "salary_List"
   ]
  },
  {
   "cell_type": "code",
   "execution_count": 42,
   "id": "8617d5a7-c0dc-4397-a1c8-7a7976e7ff64",
   "metadata": {},
   "outputs": [],
   "source": [
    "Non_Zero_Salaries=len(salary_List)"
   ]
  },
  {
   "cell_type": "code",
   "execution_count": 44,
   "id": "43a0a1e4-2eac-4363-a327-47772cfb5cb0",
   "metadata": {},
   "outputs": [
    {
     "data": {
      "text/plain": [
       "148"
      ]
     },
     "execution_count": 44,
     "metadata": {},
     "output_type": "execute_result"
    }
   ],
   "source": [
    "Non_Zero_Salaries"
   ]
  },
  {
   "cell_type": "code",
   "execution_count": 46,
   "id": "c58ec4d6-b39f-4086-bcba-592a6b0a8cb9",
   "metadata": {},
   "outputs": [],
   "source": [
    "for i in range(Non_Zero_Salaries):\n",
    "     minimum_Salary = min(salary_List)\n",
    "     output = specialization[i]"
   ]
  },
  {
   "cell_type": "code",
   "execution_count": 48,
   "id": "bb825b67-e3f6-47af-92f0-d6603ea3a093",
   "metadata": {},
   "outputs": [
    {
     "name": "stdout",
     "output_type": "stream",
     "text": [
      "This is the specialization  Mkt&Fin which is getting minimum salary of amount 200000.0\n"
     ]
    }
   ],
   "source": [
    "print(\"This is the specialization \",output,\"which is getting minimum salary of amount\",minimum_Salary)"
   ]
  },
  {
   "cell_type": "markdown",
   "id": "1887bab5-aa35-48a6-a888-7411fbc5525d",
   "metadata": {},
   "source": [
    "# 6). Finding how many of them are getting above 500000 salary?"
   ]
  },
  {
   "cell_type": "code",
   "execution_count": 51,
   "id": "7764e867-e63f-4d41-a51f-3bbbd04843a6",
   "metadata": {},
   "outputs": [],
   "source": [
    "counter = 0\n",
    "for i in range(Non_Zero_Salaries):\n",
    "     if salary_List[i] > 500000:\n",
    "        counter += 1"
   ]
  },
  {
   "cell_type": "code",
   "execution_count": 53,
   "id": "b2394fe3-961a-4e3d-9bce-e7eabc5a6021",
   "metadata": {},
   "outputs": [
    {
     "name": "stdout",
     "output_type": "stream",
     "text": [
      " Number of candidates are getting above 500000 salary is = 3\n"
     ]
    }
   ],
   "source": [
    "print(\" Number of candidates are getting above 500000 salary is =\",counter)"
   ]
  },
  {
   "cell_type": "markdown",
   "id": "a5d57369-7f7b-410c-8217-ea736daccbe6",
   "metadata": {},
   "source": [
    "# 7). Testing the Analysis of Variance between etest_p and mba_p at signifance level 5%.(Make decision using Hypothesis Testing)"
   ]
  },
  {
   "cell_type": "code",
   "execution_count": 56,
   "id": "5211ab76-591b-4b94-8e2a-ac378b2f2978",
   "metadata": {},
   "outputs": [
    {
     "data": {
      "text/plain": [
       "F_onewayResult(statistic=98.64487057324706, pvalue=4.672547689133573e-21)"
      ]
     },
     "execution_count": 56,
     "metadata": {},
     "output_type": "execute_result"
    }
   ],
   "source": [
    "import scipy.stats as stats\n",
    "stats.f_oneway(dataset['etest_p'],dataset['mba_p'])"
   ]
  },
  {
   "cell_type": "markdown",
   "id": "5009394d-9984-4976-8c05-b9e507425db7",
   "metadata": {},
   "source": [
    "# Hypothesis Statements :\n",
    "# H0 = There is no significant differences between columns etest_p and mba_p\n",
    "# H1 = There are significant differences between columns etest_p and mba_p"
   ]
  },
  {
   "cell_type": "markdown",
   "id": "adce1aa2-9bc8-4bb7-8d2e-dc64c444fdbf",
   "metadata": {},
   "source": [
    "# As per above output value of ANOVA function, the calculated result of Probability value is lesser than 0.05 (5%)\n",
    "# So we are rejecting H0 (Null Hypothesis) and accepting H1 (Alternate Hypothesis) which means there are significant differences between two quantitative columns."
   ]
  },
  {
   "cell_type": "markdown",
   "id": "1c14aee3-7433-47de-bca7-97f1314b8ad9",
   "metadata": {},
   "source": [
    "# 8). Testing the similarity between the degree_t(Sci&Tech) and specialisation(Mkt&HR) with respect to salary at significance level of 5%.(Make decision using Hypothesis Testing)"
   ]
  },
  {
   "cell_type": "code",
   "execution_count": 61,
   "id": "2b5700f5-51c1-4ad0-9212-cfbdea9e7664",
   "metadata": {},
   "outputs": [],
   "source": [
    "# Independent sample - Unpaired T test\n",
    "# Different Group ('Sci&Tech', 'Mkt&HR') but same condition (salary)"
   ]
  },
  {
   "cell_type": "code",
   "execution_count": 63,
   "id": "9635870f-4522-4da0-a80a-127ae3f08f9c",
   "metadata": {},
   "outputs": [
    {
     "data": {
      "text/plain": [
       "TtestResult(statistic=2.692041243555374, pvalue=0.007897969943471179, df=152.0)"
      ]
     },
     "execution_count": 63,
     "metadata": {},
     "output_type": "execute_result"
    }
   ],
   "source": [
    "from scipy.stats import ttest_ind\n",
    "dataset=dataset.dropna()\n",
    "Sci_Tech=dataset[dataset['degree_t']=='Sci&Tech']['salary']\n",
    "Mkt_HR = dataset[dataset['specialisation']=='Mkt&HR']['salary']\n",
    "ttest_ind(Sci_Tech,Mkt_HR)"
   ]
  },
  {
   "cell_type": "markdown",
   "id": "32c8df59-355c-408d-aaaa-6b4bc3e989ee",
   "metadata": {},
   "source": [
    "# Hypothesis Statements :\n",
    "# H0 = There is no significant similarity between columns degree_t(Sci&Tech) and specialisation(Mkt&HR) with respect to salary\n",
    "# H1 = There are significant similarity between columns degree_t(Sci&Tech) and specialisation(Mkt&HR) with respect to salary"
   ]
  },
  {
   "cell_type": "markdown",
   "id": "b9138d83-5876-484d-a5df-678af4040b95",
   "metadata": {},
   "source": [
    "# As per above output value of T-test function, the calculated result of Probability value is lesser than 0.05 (5%) "
   ]
  },
  {
   "cell_type": "markdown",
   "id": "56ec02cd-4054-4cf5-b825-af13e8e68df8",
   "metadata": {},
   "source": [
    "# So we are rejecting H0 (Null Hypothesis) and accepting H1 (Alternate Hypothesis) which means there is significant similarities between columns degree_t(Sci&Tech) and specialisation(Mkt&HR) with respect to salary."
   ]
  },
  {
   "cell_type": "markdown",
   "id": "b736ec4d-683d-4ae8-bc87-fbd192483292",
   "metadata": {},
   "source": [
    "# 9). Converting the normal distribution to standard normal distribution for salary column"
   ]
  },
  {
   "cell_type": "code",
   "execution_count": 69,
   "id": "02784caf-0dea-443e-aa05-2062ccba4773",
   "metadata": {},
   "outputs": [],
   "source": [
    "def StdNormalDistributionConversion(dataset):\n",
    "    import seaborn as sns\n",
    "    mean = dataset.mean()\n",
    "    std = dataset.std()\n",
    "    values = [i for i in dataset]\n",
    "    z_score = [((j-mean)/std) for j in values]\n",
    "    sns.distplot(z_score,kde= True)\n",
    "    #sum(z_score)/len(z_score)"
   ]
  },
  {
   "cell_type": "code",
   "execution_count": 71,
   "id": "948d6e33-62c8-4afd-baae-07ace2b855a3",
   "metadata": {},
   "outputs": [
    {
     "name": "stderr",
     "output_type": "stream",
     "text": [
      "C:\\Users\\win\\AppData\\Local\\Temp\\ipykernel_2636\\2143283452.py:7: UserWarning: \n",
      "\n",
      "`distplot` is a deprecated function and will be removed in seaborn v0.14.0.\n",
      "\n",
      "Please adapt your code to use either `displot` (a figure-level function with\n",
      "similar flexibility) or `histplot` (an axes-level function for histograms).\n",
      "\n",
      "For a guide to updating your code to use the new functions, please see\n",
      "https://gist.github.com/mwaskom/de44147ed2974457ad6372750bbe5751\n",
      "\n",
      "  sns.distplot(z_score,kde= True)\n"
     ]
    },
    {
     "data": {
      "image/png": "[encoded data removed]",
      "text/plain": [
       "<Figure size 640x480 with 1 Axes>"
      ]
     },
     "metadata": {},
     "output_type": "display_data"
    }
   ],
   "source": [
    "StdNormalDistributionConversion(dataset[\"salary\"])"
   ]
  },
  {
   "cell_type": "markdown",
   "id": "32add508-2860-483d-8006-4b1b88f8ae1a",
   "metadata": {},
   "source": [
    "# 10). What is the probability Density Function of the salary range from  700000 to 900000?"
   ]
  },
  {
   "cell_type": "code",
   "execution_count": 82,
   "id": "554c3a78-8bc5-466a-83a1-3e217a5d35d9",
   "metadata": {},
   "outputs": [],
   "source": [
    "def get_PDF(dataset,startrange,endrange):\n",
    "    # importing required python libraries\n",
    "    from matplotlib import pyplot\n",
    "    from scipy.stats import norm\n",
    "    import seaborn as sns\n",
    "    \n",
    "    ax=sns.distplot(dataset,kde=True,kde_kws={'color':'blue'},color='Green')\n",
    "    pyplot.axvline(startrange,color='Red')\n",
    "    pyplot.axvline(endrange,color='Red')\n",
    "    \n",
    "    # Generate a sample\n",
    "    sample=dataset\n",
    "    \n",
    "    # Calculate parameters\n",
    "    sample_mean=sample.mean()\n",
    "    sample_std=sample.std()\n",
    "    print('Mean=%.3f,Standard Deviation=%.3f' %(sample_mean,sample_std))\n",
    "    \n",
    "    # define distribution\n",
    "    dist=norm(sample_mean,sample_std)\n",
    "    \n",
    "    # sample probabilities for a range of outcomes\n",
    "    values= [value for value in range(startrange,endrange)]\n",
    "    probabilities=[dist.pdf(value) for value in values]\n",
    "    prob=sum(probabilities)\n",
    "    print(\"The area between range({},{}):{})\".format(startrange,endrange,sum(probabilities)))\n",
    "    return prob"
   ]
  },
  {
   "cell_type": "code",
   "execution_count": 84,
   "id": "f1cb7160-bc89-4934-9e3e-6b2d3d627e83",
   "metadata": {},
   "outputs": [
    {
     "name": "stderr",
     "output_type": "stream",
     "text": [
      "C:\\Users\\win\\AppData\\Local\\Temp\\ipykernel_2636\\536389881.py:7: UserWarning: \n",
      "\n",
      "`distplot` is a deprecated function and will be removed in seaborn v0.14.0.\n",
      "\n",
      "Please adapt your code to use either `displot` (a figure-level function with\n",
      "similar flexibility) or `histplot` (an axes-level function for histograms).\n",
      "\n",
      "For a guide to updating your code to use the new functions, please see\n",
      "https://gist.github.com/mwaskom/de44147ed2974457ad6372750bbe5751\n",
      "\n",
      "  ax=sns.distplot(dataset,kde=True,kde_kws={'color':'blue'},color='Green')\n"
     ]
    },
    {
     "name": "stdout",
     "output_type": "stream",
     "text": [
      "Mean=198702.326,Standard Deviation=154780.927\n",
      "The area between range(700000,900000):0.0005973310593974901)\n"
     ]
    },
    {
     "data": {
      "text/plain": [
       "0.0005973310593974901"
      ]
     },
     "execution_count": 84,
     "metadata": {},
     "output_type": "execute_result"
    },
    {
     "data": {
      "image/png": "[encoded data removed]",
      "text/plain": [
       "<Figure size 640x480 with 1 Axes>"
      ]
     },
     "metadata": {},
     "output_type": "display_data"
    }
   ],
   "source": [
    "get_PDF(dataset[\"salary\"],700000,900000)"
   ]
  },
  {
   "cell_type": "markdown",
   "id": "5b96d975-622b-4c19-8025-1f51dba74779",
   "metadata": {},
   "source": [
    "# Hence the probability density value is only 0.05% of data that is covered for the range of salary between 700000 and 900000"
   ]
  },
  {
   "cell_type": "markdown",
   "id": "3fb4e564-9f1f-4555-b591-fde80c39ee6a",
   "metadata": {},
   "source": [
    "# 11). Testing the similarity between the degree_t(Sci&Tech)with respect to etest_p and mba_p at significance level of 5%.(Make decision using Hypothesis Testing)"
   ]
  },
  {
   "cell_type": "code",
   "execution_count": 90,
   "id": "dd6211f8-445b-4285-8e4e-5e1304bb0bee",
   "metadata": {},
   "outputs": [],
   "source": [
    "# Dependent sample - paired T test\n",
    "# Same Group ('Sci&Tech') but different condition (etest_p and mba_p)"
   ]
  },
  {
   "cell_type": "code",
   "execution_count": 122,
   "id": "9823e830-0958-48b8-ac7a-2a57f0714087",
   "metadata": {},
   "outputs": [
    {
     "data": {
      "text/plain": [
       "TtestResult(statistic=5.0049844583693615, pvalue=5.517920600505392e-06, df=58)"
      ]
     },
     "execution_count": 122,
     "metadata": {},
     "output_type": "execute_result"
    }
   ],
   "source": [
    "from scipy.stats import ttest_rel\n",
    "Sci_Tech_entrance = dataset[dataset['degree_t']=='Sci&Tech']['etest_p']\n",
    "Sci_Tech_mba = dataset[dataset['degree_t']=='Sci&Tech']['mba_p']\n",
    "ttest_rel(Sci_Tech_entrance,Sci_Tech_mba)"
   ]
  },
  {
   "cell_type": "markdown",
   "id": "2d075a85-116e-4252-ac28-d3ff4c5cca8a",
   "metadata": {},
   "source": [
    "# Hypothesis Statements :\n",
    "# H0 = There is no significant similarity between columns degree_t(Sci&Tech) with respect to etest_p and mba_p\n",
    "# H1 = There are significant similarity between columns degree_t(Sci&Tech) with respect to etest_p and mba_p"
   ]
  },
  {
   "cell_type": "markdown",
   "id": "3acb7065-8097-4546-858a-d7e9fb718419",
   "metadata": {},
   "source": [
    "# As per above output value of T-test function, the calculated result of Probability value is lesser than 0.05 (5%)"
   ]
  },
  {
   "cell_type": "markdown",
   "id": "25bcb459-f325-49c6-b97b-a71cb80e66e9",
   "metadata": {},
   "source": [
    "# So we are rejecting H0 (Null Hypothesis) and accepting H1 (Alternate Hypothesis) which means there are significant similarities between columns degree_t(Sci&Tech) with respect to etest_p and mba_p"
   ]
  },
  {
   "cell_type": "markdown",
   "id": "4c49851f-e3aa-485a-b142-cbb3f0122930",
   "metadata": {},
   "source": [
    "# 13). plot any useful graph and explain it."
   ]
  },
  {
   "cell_type": "code",
   "execution_count": 131,
   "id": "654b1542-d33f-47a8-9511-9e0c29d015b8",
   "metadata": {},
   "outputs": [],
   "source": [
    "import pandas as pd"
   ]
  },
  {
   "cell_type": "code",
   "execution_count": 133,
   "id": "d5245745-59cd-4017-9a0b-d348c97cc9de",
   "metadata": {},
   "outputs": [],
   "source": [
    "dataset=pd.read_csv(\"PrePlacement.csv\")"
   ]
  },
  {
   "cell_type": "code",
   "execution_count": 135,
   "id": "2eef7f0d-d13c-417a-9833-31dd211b0176",
   "metadata": {},
   "outputs": [
    {
     "data": {
      "text/plain": [
       "sl_no             0\n",
       "gender            0\n",
       "ssc_p             0\n",
       "ssc_b             0\n",
       "hsc_p             0\n",
       "hsc_b             0\n",
       "hsc_s             0\n",
       "degree_p          0\n",
       "degree_t          0\n",
       "workex            0\n",
       "etest_p           0\n",
       "specialisation    0\n",
       "mba_p             0\n",
       "status            0\n",
       "salary            0\n",
       "dtype: int64"
      ]
     },
     "execution_count": 135,
     "metadata": {},
     "output_type": "execute_result"
    }
   ],
   "source": [
    "dataset.isnull().sum()"
   ]
  },
  {
   "cell_type": "code",
   "execution_count": 137,
   "id": "a4a56f93-a12e-40f9-ae74-a6796591b57f",
   "metadata": {},
   "outputs": [
    {
     "name": "stderr",
     "output_type": "stream",
     "text": [
      "C:\\Users\\win\\AppData\\Local\\Temp\\ipykernel_2636\\3471076516.py:2: UserWarning: \n",
      "\n",
      "`distplot` is a deprecated function and will be removed in seaborn v0.14.0.\n",
      "\n",
      "Please adapt your code to use either `displot` (a figure-level function with\n",
      "similar flexibility) or `histplot` (an axes-level function for histograms).\n",
      "\n",
      "For a guide to updating your code to use the new functions, please see\n",
      "https://gist.github.com/mwaskom/de44147ed2974457ad6372750bbe5751\n",
      "\n",
      "  sns.distplot(dataset[\"ssc_p\"])\n"
     ]
    },
    {
     "data": {
      "text/plain": [
       "<Axes: xlabel='ssc_p', ylabel='Density'>"
      ]
     },
     "execution_count": 137,
     "metadata": {},
     "output_type": "execute_result"
    },
    {
     "data": {
      "image/png": "[encoded data removed]",
      "text/plain": [
       "<Figure size 640x480 with 1 Axes>"
      ]
     },
     "metadata": {},
     "output_type": "display_data"
    }
   ],
   "source": [
    "import seaborn as sns\n",
    "# Seaborn Distribution plot of ssc pass mark from \"PrePlacement\" dataset.\n",
    "sns.distplot(dataset[\"ssc_p\"])"
   ]
  }
 ],
 "metadata": {
  "kernelspec": {
   "display_name": "Python 3 (ipykernel)",
   "language": "python",
   "name": "python3"
  },
  "language_info": {
   "codemirror_mode": {
    "name": "ipython",
    "version": 3
   },
   "file_extension": ".py",
   "mimetype": "text/x-python",
   "name": "python",
   "nbconvert_exporter": "python",
   "pygments_lexer": "ipython3",
   "version": "3.12.7"
  }
 },
 "nbformat": 4,
 "nbformat_minor": 5
}
